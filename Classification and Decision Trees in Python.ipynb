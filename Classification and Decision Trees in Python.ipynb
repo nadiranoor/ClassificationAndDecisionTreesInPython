{
  "nbformat": 4,
  "nbformat_minor": 0,
  "metadata": {
    "colab": {
      "name": "HW6_Noor_Nadira.ipynb",
      "provenance": [],
      "collapsed_sections": [],
      "toc_visible": true
    },
    "kernelspec": {
      "name": "python3",
      "display_name": "Python 3"
    },
    "language_info": {
      "name": "python"
    }
  },
  "cells": [
    {
      "cell_type": "markdown",
      "metadata": {
        "id": "gJL_nLkdHYDy"
      },
      "source": [
        "# Homework 6 (30 marks)\n",
        "Create a copy of the notebook to start answering the questions. Name your notebook in the format HW6_lastname_firstname.ipynb to facilitate the grading process.\n",
        "\n",
        "Answer all the questions, test your code to ensure there are no errors and the results are as expected. Once you have answered all the questions, save the final copy, then go to File-> click on Download.ipynb. Once the local copy has been downloaded, submit your file on Blackboard under the corresponding assignment section. Also provide us a link to your notebook during submission.\n",
        "\n",
        "NOTE: Please give the TAs the permission to access your notebooks through the links you have provided during submission.\n",
        "\n",
        "The due date of this homework is 04/09/2021 (Friday).\n",
        "\n",
        "Please ensure you follow all the steps mentioned in the homework.\n",
        "\n",
        "You can submit your solutions any number of times until the deadline.\n",
        "\n",
        "The datasets used in this homework can be found in the google drive link below -\n",
        "\n",
        "https://drive.google.com/drive/folders/1NxCh4X7u7wVo5aHojxjLNs9wC7B7zJhb?usp=sharing\n",
        "\n",
        "Follow the necessary steps to import data to test your code. You can use any method to read your data in the notebook. We will not be grading the methods you use. We will only grade the code from the point where you read the dataset into a pandas dataframe - (pd.read_csv('file_name'))"
      ]
    },
    {
      "cell_type": "markdown",
      "metadata": {
        "id": "Zp3D8wIOH4bR"
      },
      "source": [
        "Import all the libraries you require in the cell below.\n",
        "\n"
      ]
    },
    {
      "cell_type": "code",
      "metadata": {
        "id": "72EyvzqAH6G_"
      },
      "source": [
        "# Enter your code here\n",
        "import pandas as pd\n",
        "from sklearn.model_selection import train_test_split\n",
        "from sklearn.tree import DecisionTreeClassifier\n",
        "from sklearn import metrics\n",
        "import matplotlib.pyplot as plt\n",
        "from sklearn import tree\n",
        "from sklearn.linear_model import LogisticRegression\n"
      ],
      "execution_count": null,
      "outputs": []
    },
    {
      "cell_type": "markdown",
      "metadata": {
        "id": "TxCnZ-n3H0Wd"
      },
      "source": [
        "### 1. Build a classification model that predicts the edibility of mushrooms (class variable in the dataset). You have been provide with a dataset as a mushrooms.csv file. \n",
        "Here is a description of the attributes\n"
      ]
    },
    {
      "cell_type": "markdown",
      "metadata": {
        "id": "2WX2OwgOIHMd"
      },
      "source": [
        "Attribute description:\n",
        "1. cap-shape: bell=b,conical=c,convex=x,flat=f, knobbed=k,sunken=s \n",
        "2. cap-surface: fibrous=f,grooves=g,scaly=y,smooth=s \n",
        "3. cap-color: brown=n,buff=b,cinnamon=c,gray=g,green=r, pink=p,purple=u,red=e,white=w,yellow=y \n",
        "4. bruises?: bruises=t,no=f \n",
        "5. odor: almond=a,anise=l,creosote=c,fishy=y,foul=f, musty=m,none=n,pungent=p,spicy=s \n",
        "6. gill-attachment: attached=a,descending=d,free=f,notched=n \n",
        "7. gill-spacing: close=c,crowded=w,distant=d \n",
        "8. gill-size: broad=b,narrow=n \n",
        "9. gill-color: black=k,brown=n,buff=b,chocolate=h,gray=g, green=r,orange=o,pink=p,purple=u,red=e, white=w,yellow=y \n",
        "10. stalk-shape: enlarging=e,tapering=t \n",
        "11. stalk-root: bulbous=b,club=c,cup=u,equal=e, rhizomorphs=z,rooted=r,missing=? \n",
        "12. stalk-surface-above-ring: fibrous=f,scaly=y,silky=k,smooth=s \n",
        "13. stalk-surface-below-ring: fibrous=f,scaly=y,silky=k,smooth=s \n",
        "14. stalk-color-above-ring: brown=n,buff=b,cinnamon=c,gray=g,orange=o, pink=p,red=e,white=w,yellow=y \n",
        "15. stalk-color-below-ring: brown=n,buff=b,cinnamon=c,gray=g,orange=o, pink=p,red=e,white=w,yellow=y \n",
        "16. veil-type: partial=p,universal=u \n",
        "17. veil-color: brown=n,orange=o,white=w,yellow=y \n",
        "18. ring-number: none=n,one=o,two=t \n",
        "19. ring-type: cobwebby=c,evanescent=e,flaring=f,large=l, none=n,pendant=p,sheathing=s,zone=z \n",
        "20. spore-print-color: black=k,brown=n,buff=b,chocolate=h,green=r, orange=o,purple=u,white=w,yellow=y \n",
        "21. population: abundant=a,clustered=c,numerous=n, scattered=s,several=v,solitary=y \n",
        "22. habitat: grasses=g,leaves=l,meadows=m,paths=p, urban=u,waste=w,woods=d\n",
        "23. class: p = poisonous, e=edible\n"
      ]
    },
    {
      "cell_type": "markdown",
      "metadata": {
        "id": "LJeXdQymILSv"
      },
      "source": [
        "1. Build a classification tree. Random_state =2020. Training partition 0.7. stratify = y, max_depth = 6, use Entropy (8 marks)\n",
        "\n",
        "A. Read the dataset, explore it and determine what is the dependent variable (1 mark)\n",
        "\n",
        "B. Store the feature and target variable. (2 marks)\n",
        "\n",
        "C. Convert all categorical variables into dummy variables (1 mark)\n",
        "\n",
        "D. Partition the data into training and test sets (70/30) (1 mark)\n",
        "\n",
        "E. Fit the training data to a classification tree. (3 marks)"
      ]
    },
    {
      "cell_type": "code",
      "metadata": {
        "id": "Eme32RA0IKoR",
        "colab": {
          "base_uri": "https://localhost:8080/"
        },
        "outputId": "de17ce0a-e00d-465e-97a3-7735eb20f4ea"
      },
      "source": [
        "# Enter your code here\n",
        "\n",
        "#A Read the dataset, explore it and determine what is the dependent variable\n",
        "pd.set_option('display.max_columns', None)\n",
        "\n",
        "frame = pd.read_csv('mushrooms.csv')\n",
        "\n",
        "print(frame.head())\n",
        "print(frame.shape)\n",
        "print(frame.columns.values)\n",
        "print(frame.isnull().sum())\n",
        "\n",
        "\n",
        "print(shrooms_data)\n",
        "\n",
        "# split into features and targets using iloc to select columns\n",
        "X_non_dummy = shrooms_data.iloc[:, 1:]\n",
        "y = shrooms_data.iloc[:, 0]\n",
        "print(X_non_dummy)\n",
        "print(y)\n",
        "\n",
        "# Convert all categorical variables into dummy variables\n",
        "#call pandas get_dummies function to convert all to categorical values\n",
        "X = pd.get_dummies(X_non_dummy, columns=X_non_dummy.columns)\n",
        "print(X.columns)\n",
        "\n",
        "# Partition the data into train and test sets (70/30)\n",
        "\n",
        "X_train, X_test, Y_train, Y_test = train_test_split(X, y, test_size=0.3, random_state=2020, stratify=y)\n",
        "\n",
        "# Fit the training data to a classification tree. (3)\n",
        "\n",
        "dt = DecisionTreeClassifier(criterion=\"entropy\", max_depth=6, random_state=2020)\n",
        "dt.fit(X_train, Y_train)\n",
        "y_pred = dt.predict(X_test)\n"
      ],
      "execution_count": null,
      "outputs": [
        {
          "output_type": "stream",
          "text": [
            "  class cap-shape cap-surface cap-color bruises odor gill-attachment  \\\n",
            "0     p         x           s         n       t    p               f   \n",
            "1     e         x           s         y       t    a               f   \n",
            "2     e         b           s         w       t    l               f   \n",
            "3     p         x           y         w       t    p               f   \n",
            "4     e         x           s         g       f    n               f   \n",
            "\n",
            "  gill-spacing gill-size gill-color stalk-shape stalk-root  \\\n",
            "0            c         n          k           e          e   \n",
            "1            c         b          k           e          c   \n",
            "2            c         b          n           e          c   \n",
            "3            c         n          n           e          e   \n",
            "4            w         b          k           t          e   \n",
            "\n",
            "  stalk-surface-above-ring stalk-surface-below-ring stalk-color-above-ring  \\\n",
            "0                        s                        s                      w   \n",
            "1                        s                        s                      w   \n",
            "2                        s                        s                      w   \n",
            "3                        s                        s                      w   \n",
            "4                        s                        s                      w   \n",
            "\n",
            "  stalk-color-below-ring veil-type veil-color ring-number ring-type  \\\n",
            "0                      w         p          w           o         p   \n",
            "1                      w         p          w           o         p   \n",
            "2                      w         p          w           o         p   \n",
            "3                      w         p          w           o         p   \n",
            "4                      w         p          w           o         e   \n",
            "\n",
            "  spore-print-color population habitat  \n",
            "0                 k          s       u  \n",
            "1                 n          n       g  \n",
            "2                 n          n       m  \n",
            "3                 k          s       u  \n",
            "4                 n          a       g  \n",
            "(8124, 23)\n",
            "['class' 'cap-shape' 'cap-surface' 'cap-color' 'bruises' 'odor'\n",
            " 'gill-attachment' 'gill-spacing' 'gill-size' 'gill-color' 'stalk-shape'\n",
            " 'stalk-root' 'stalk-surface-above-ring' 'stalk-surface-below-ring'\n",
            " 'stalk-color-above-ring' 'stalk-color-below-ring' 'veil-type'\n",
            " 'veil-color' 'ring-number' 'ring-type' 'spore-print-color' 'population'\n",
            " 'habitat']\n",
            "class                       0\n",
            "cap-shape                   0\n",
            "cap-surface                 0\n",
            "cap-color                   0\n",
            "bruises                     0\n",
            "odor                        0\n",
            "gill-attachment             0\n",
            "gill-spacing                0\n",
            "gill-size                   0\n",
            "gill-color                  0\n",
            "stalk-shape                 0\n",
            "stalk-root                  0\n",
            "stalk-surface-above-ring    0\n",
            "stalk-surface-below-ring    0\n",
            "stalk-color-above-ring      0\n",
            "stalk-color-below-ring      0\n",
            "veil-type                   0\n",
            "veil-color                  0\n",
            "ring-number                 0\n",
            "ring-type                   0\n",
            "spore-print-color           0\n",
            "population                  0\n",
            "habitat                     0\n",
            "dtype: int64\n"
          ],
          "name": "stdout"
        },
        {
          "output_type": "execute_result",
          "data": {
            "text/plain": [
              "DecisionTreeClassifier(ccp_alpha=0.0, class_weight=None, criterion='entropy',\n",
              "                       max_depth=6, max_features=None, max_leaf_nodes=None,\n",
              "                       min_impurity_decrease=0.0, min_impurity_split=None,\n",
              "                       min_samples_leaf=1, min_samples_split=2,\n",
              "                       min_weight_fraction_leaf=0.0, presort='deprecated',\n",
              "                       random_state=None, splitter='best')"
            ]
          },
          "metadata": {
            "tags": []
          },
          "execution_count": 45
        }
      ]
    },
    {
      "cell_type": "markdown",
      "metadata": {
        "id": "YB-2YFsOIUah"
      },
      "source": [
        "2. Print the confusion matrix. \n",
        "Also visualize the confusion matrix using plot_confusion_matrix from sklearn.metrics (3 marks)\n",
        "\n"
      ]
    },
    {
      "cell_type": "code",
      "metadata": {
        "id": "VFwyLKzcRjyY",
        "colab": {
          "base_uri": "https://localhost:8080/",
          "height": 314
        },
        "outputId": "e3bd590a-609a-425c-ea0d-888944c34b47"
      },
      "source": [
        "\n",
        "# A.\tInsert a screen shot of the confusion matrix\n",
        "from sklearn import metrics\n",
        "from sklearn.metrics import accuracy_score\n",
        "cnf_matrix = metrics.confusion_matrix(Y_test, y_pred)\n",
        "print(\"Part A:\\n\", cnf_matrix)"
      ],
      "execution_count": null,
      "outputs": [
        {
          "output_type": "stream",
          "text": [
            "[[1263    0]\n",
            " [   0 1175]]\n"
          ],
          "name": "stdout"
        },
        {
          "output_type": "display_data",
          "data": {
            "image/png": "[encoded data removed]",
            "text/plain": [
              "<Figure size 432x288 with 2 Axes>"
            ]
          },
          "metadata": {
            "tags": [],
            "needs_background": "light"
          }
        }
      ]
    },
    {
      "cell_type": "markdown",
      "metadata": {
        "id": "yhdyvv48JFFd"
      },
      "source": [
        "3. Print the accuracy on the training partition?  (2 marks)\n"
      ]
    },
    {
      "cell_type": "code",
      "metadata": {
        "id": "WeQ9cOluRrL2",
        "colab": {
          "base_uri": "https://localhost:8080/"
        },
        "outputId": "c0d64e73-6b97-4270-f9ea-b997bef6225d"
      },
      "source": [
        "# Enter your code here\n",
        "\n",
        "# B.\tWhat was the accuracy on the training partition?\n",
        "training_pred = dt.predict(X_train)\n",
        "acc_training = accuracy_score(training_pred, Y_train)\n",
        "print(\"Part B, Training Accuracy:\", acc_training)\n"
      ],
      "execution_count": null,
      "outputs": [
        {
          "output_type": "stream",
          "text": [
            "Accuracy = 1.0\n"
          ],
          "name": "stdout"
        }
      ]
    },
    {
      "cell_type": "markdown",
      "metadata": {
        "id": "_aH9TPFSJGv_"
      },
      "source": [
        "4. Print the accuracy on the test partition? (2 marks)\n"
      ]
    },
    {
      "cell_type": "code",
      "metadata": {
        "id": "U4eEWJCvRwSn",
        "colab": {
          "base_uri": "https://localhost:8080/"
        },
        "outputId": "3d00c87d-96b7-4ba2-dca4-685f0fa6382a"
      },
      "source": [
        "# Enter your code here\n",
        "\n",
        "# C.\tWhat was the accuracy on the test partition?\n",
        "acc_testing = accuracy_score(y_pred, Y_test)\n",
        "print(\"Part B, Testing Accuracy: \", acc_testing)"
      ],
      "execution_count": null,
      "outputs": [
        {
          "output_type": "stream",
          "text": [
            "Accuracy = 1.0\n"
          ],
          "name": "stdout"
        }
      ]
    },
    {
      "cell_type": "markdown",
      "metadata": {
        "id": "_cWbOP-3JIE0"
      },
      "source": [
        "5. Show the classification tree and save it (5 marks)\n"
      ]
    },
    {
      "cell_type": "code",
      "metadata": {
        "id": "LRuYQCeNR1Dn",
        "colab": {
          "base_uri": "https://localhost:8080/",
          "height": 683
        },
        "outputId": "42833fbe-7b00-4a7c-d359-d944dfc11ae9"
      },
      "source": [
        "# Enter your code here\n",
        "# Enter your code here\n",
        "\n",
        "# D.\tShow the classification tree.\n",
        "from sklearn.tree import export_graphviz\n",
        "import pydotplus\n",
        "from IPython.display import Image\n",
        "from sklearn import tree\n",
        "\n",
        "#print tree and export to PDF\n",
        "fn = X.columns\n",
        "plt.figure(figsize=(12,12))\n",
        "classList = dt.classes_.tolist()\n",
        "print(classList)\n",
        "a = tree.plot_tree(dt, feature_names=fn, class_names=classList, filled=True)\n",
        "plt.show()\n",
        "\n",
        "# Must add code to save the tree image"
      ],
      "execution_count": null,
      "outputs": [
        {
          "output_type": "display_data",
          "data": {
            "image/png": "[encoded data removed]",
            "text/plain": [
              "<Figure size 864x864 with 1 Axes>"
            ]
          },
          "metadata": {
            "tags": [],
            "needs_background": "light"
          }
        }
      ]
    },
    {
      "cell_type": "markdown",
      "metadata": {
        "id": "a3fM0HMSJJl8"
      },
      "source": [
        "6. Find and print the top three most important features in your decision tree for determining toxicity. (4 marks)"
      ]
    },
    {
      "cell_type": "code",
      "metadata": {
        "id": "qTkc8ga1R6kd",
        "colab": {
          "base_uri": "https://localhost:8080/"
        },
        "outputId": "80c17f7b-b873-4434-c49d-e03e04a87509"
      },
      "source": [
        "# Enter your code here\n",
        "\n",
        "# E.\tList the top three most important features in your decision tree for determining toxicity.\n",
        "print(\"Feature importance\", dt.feature_importances_)\n",
        "imp=pd.DataFrame(zip(X_train.columns, dt.feature_importances_))\n",
        "print(imp.sort_values(by=[1]))\n",
        "# The three most important features are in rows 27, 21, 53\n",
        "    # 1.Odor\n",
        "    # 2.Bruises\n",
        "    # 3.Stalk-root\n",
        "# Other top three are possible with different model parameters"
      ],
      "execution_count": null,
      "outputs": [
        {
          "output_type": "stream",
          "text": [
            "Feature Importance: [0. 1. 0. 0. 0. 0. 0. 0. 0. 0. 0. 0. 0. 0. 0. 0. 0. 0. 0. 0. 0. 0. 0. 0.\n",
            " 0. 0. 0. 0. 0. 0. 0. 0. 0. 0. 0. 0. 0. 0. 0. 0. 0. 0. 0. 0. 0. 0. 0. 0.\n",
            " 0. 0. 0. 0. 0. 0. 0. 0. 0. 0. 0. 0. 0. 0. 0. 0. 0. 0. 0. 0. 0. 0. 0. 0.\n",
            " 0. 0. 0. 0. 0. 0. 0. 0. 0. 0. 0. 0. 0. 0. 0. 0. 0. 0. 0. 0. 0. 0. 0. 0.\n",
            " 0. 0. 0. 0. 0. 0. 0. 0. 0. 0. 0. 0. 0. 0. 0. 0. 0. 0. 0. 0. 0. 0. 0.]\n",
            "             0    1\n",
            "0      class_e  0.0\n",
            "1      class_p  1.0\n",
            "2  cap-shape_b  0.0\n",
            "3  cap-shape_c  0.0\n",
            "4  cap-shape_f  0.0\n"
          ],
          "name": "stdout"
        }
      ]
    },
    {
      "cell_type": "markdown",
      "metadata": {
        "id": "uye7JohHJQmN"
      },
      "source": [
        "7. Classify the following mushroom. (6 marks)\n",
        "\n",
        "class\n",
        " : **?**\n",
        "\n",
        "cap-shape\n",
        ": **x**\n",
        "\n",
        "cap-surface\n",
        ": **s**\n",
        "\n",
        "cap-color\n",
        ": **n**\n",
        "\n",
        "bruises\n",
        ": **t**\n",
        "\n",
        "odor\n",
        ": **y**\n",
        "\n",
        "gill-attachment\n",
        ": **f**\n",
        "\n",
        "gill-spacing\n",
        ": **c**\n",
        "\n",
        "gill-size\n",
        ": **n**\n",
        "\n",
        "gill-color\n",
        ": **k**\n",
        "\n",
        "stalk-shape\n",
        ": **e**\n",
        "\n",
        "stalk-root\n",
        ": **e**\n",
        "\n",
        "stalk-surface-above-ring\n",
        ": **s**\n",
        "\n",
        "stalk-surface-below-ring\n",
        ": **s**\n",
        "\n",
        "stalk-color-above-ring\n",
        ": **w**\n",
        "\n",
        "stalk-color-below-ring\n",
        ": **w**\n",
        "\n",
        "veil-type\n",
        ": **p**\n",
        "\n",
        "veil-color\n",
        ": **w**\n",
        "\n",
        "ring-number\n",
        ": **o**\n",
        "\n",
        "ring-type\n",
        ": **p**\n",
        "\n",
        "spore-print-color\n",
        ": **r**\n",
        "\n",
        "population\n",
        ": **s**\n",
        "\n",
        "habitat\n",
        ": **u**\n",
        "\n"
      ]
    },
    {
      "cell_type": "code",
      "metadata": {
        "id": "jaLW4bhtSGjh",
        "colab": {
          "base_uri": "https://localhost:8080/",
          "height": 371
        },
        "outputId": "8f27d0db-647a-448f-ae02-eef5d0fa7402"
      },
      "source": [
        "# Enter your code here\n",
        "\n",
        "# F.\tClassify the following mushroom.\n",
        "#create a mushroom dataframe with requested features\n",
        "# Or students can create a list with dummy variables for the following factors. They can\n",
        "# do it manually and then predict.\n",
        "sample_shroom = {'cap-shape':[\"x\"],\n",
        "                 'cap-surface':[\"s\"],\n",
        "                 'cap-color':[\"n\"],\n",
        "                 'bruises':[\"t\"],\n",
        "                 'odor':[\"y\"],\n",
        "                 'gill-attachment':[\"f\"],\n",
        "                 'gill-spacing':[\"c\"],\n",
        "                 'gill-size':[\"n\"],\n",
        "                 'gill-color':[\"k\"],\n",
        "                 'stalk-shape':[\"e\"],\n",
        "                 'stalk-root':[\"e\"],\n",
        "                 'stalk-surface-above-ring':[\"s\"],\n",
        "                 'stalk-surface-below-ring':[\"s\"],\n",
        "                 'stalk-color-above-ring':[\"w\"],\n",
        "                 'stalk-color-below-ring':[\"w\"],\n",
        "                 'veil-type':[\"p\"],\n",
        "                 'veil-color':[\"w\"],\n",
        "                 'ring-number':[\"o\"],\n",
        "                 'ring-type':[\"p\"],\n",
        "                 'spore-print-color':[\"r\"],\n",
        "                 'population':[\"s\"],\n",
        "                 'habitat':[\"u\"]}\n",
        "one_row = pd.DataFrame(sample_shroom)\n",
        "\n",
        "#append to largest dataframe\n",
        "new_x_non_dummy = pd.concat([X_non_dummy, one_row], ignore_index=True)\n",
        "#print to verify shapes match\n",
        "print(new_x_non_dummy)\n",
        "print(new_x_non_dummy.shape)\n",
        "\n",
        "#convert ENTIRE frame into dummy_variables again\n",
        "sample_shroom_dummy = pd.get_dummies(new_x_non_dummy, columns= new_x_non_dummy.columns)\n",
        "print(sample_shroom_dummy)\n",
        "\n",
        "# create a prediction with the fitted model from before but with new X features\n",
        "#filter for last tuple of dummy dataset\n",
        "sample_shroom_pred = dt.predict(sample_shroom_dummy.loc[[8124]])\n",
        "print(\"Predicted Value for Sample Mushroom:\", sample_shroom_pred)\n"
      ],
      "execution_count": null,
      "outputs": [
        {
          "output_type": "error",
          "ename": "ValueError",
          "evalue": "ignored",
          "traceback": [
            "\u001b[0;31m---------------------------------------------------------------------------\u001b[0m",
            "\u001b[0;31mValueError\u001b[0m                                Traceback (most recent call last)",
            "\u001b[0;32m<ipython-input-83-59c658d8f642>\u001b[0m in \u001b[0;36m<module>\u001b[0;34m()\u001b[0m\n\u001b[1;32m      3\u001b[0m \u001b[0mlogReg\u001b[0m\u001b[0;34m.\u001b[0m\u001b[0mfit\u001b[0m\u001b[0;34m(\u001b[0m\u001b[0mX_train\u001b[0m\u001b[0;34m,\u001b[0m \u001b[0my_train\u001b[0m\u001b[0;34m)\u001b[0m\u001b[0;34m\u001b[0m\u001b[0;34m\u001b[0m\u001b[0m\n\u001b[1;32m      4\u001b[0m \u001b[0;34m\u001b[0m\u001b[0m\n\u001b[0;32m----> 5\u001b[0;31m \u001b[0mtoxicity\u001b[0m \u001b[0;34m=\u001b[0m \u001b[0mlogReg\u001b[0m\u001b[0;34m.\u001b[0m\u001b[0mpredict\u001b[0m\u001b[0;34m(\u001b[0m\u001b[0;34m[\u001b[0m\u001b[0;34m[\u001b[0m\u001b[0;36m1\u001b[0m\u001b[0;34m,\u001b[0m\u001b[0;36m0\u001b[0m\u001b[0;34m,\u001b[0m\u001b[0;36m1\u001b[0m\u001b[0;34m,\u001b[0m\u001b[0;36m0\u001b[0m\u001b[0;34m,\u001b[0m\u001b[0;36m1\u001b[0m\u001b[0;34m,\u001b[0m\u001b[0;36m0\u001b[0m\u001b[0;34m,\u001b[0m\u001b[0;36m1\u001b[0m\u001b[0;34m,\u001b[0m\u001b[0;36m0\u001b[0m\u001b[0;34m,\u001b[0m\u001b[0;36m0\u001b[0m\u001b[0;34m,\u001b[0m\u001b[0;36m0\u001b[0m\u001b[0;34m,\u001b[0m\u001b[0;36m0\u001b[0m\u001b[0;34m,\u001b[0m\u001b[0;36m1\u001b[0m\u001b[0;34m,\u001b[0m\u001b[0;36m0\u001b[0m\u001b[0;34m,\u001b[0m\u001b[0;36m0\u001b[0m\u001b[0;34m,\u001b[0m\u001b[0;36m0\u001b[0m\u001b[0;34m,\u001b[0m\u001b[0;36m1\u001b[0m\u001b[0;34m,\u001b[0m\u001b[0;36m0\u001b[0m\u001b[0;34m,\u001b[0m\u001b[0;36m0\u001b[0m\u001b[0;34m,\u001b[0m\u001b[0;36m1\u001b[0m\u001b[0;34m,\u001b[0m\u001b[0;36m0\u001b[0m\u001b[0;34m,\u001b[0m\u001b[0;36m0\u001b[0m\u001b[0;34m,\u001b[0m\u001b[0;36m1\u001b[0m\u001b[0;34m]\u001b[0m\u001b[0;34m]\u001b[0m\u001b[0;34m)\u001b[0m\u001b[0;34m\u001b[0m\u001b[0;34m\u001b[0m\u001b[0m\n\u001b[0m\u001b[1;32m      6\u001b[0m \u001b[0mprint\u001b[0m\u001b[0;34m(\u001b[0m\u001b[0mtoxicity\u001b[0m\u001b[0;34m)\u001b[0m\u001b[0;34m\u001b[0m\u001b[0;34m\u001b[0m\u001b[0m\n",
            "\u001b[0;32m/usr/local/lib/python3.7/dist-packages/sklearn/linear_model/_base.py\u001b[0m in \u001b[0;36mpredict\u001b[0;34m(self, X)\u001b[0m\n\u001b[1;32m    291\u001b[0m             \u001b[0mPredicted\u001b[0m \u001b[0;32mclass\u001b[0m \u001b[0mlabel\u001b[0m \u001b[0mper\u001b[0m \u001b[0msample\u001b[0m\u001b[0;34m.\u001b[0m\u001b[0;34m\u001b[0m\u001b[0;34m\u001b[0m\u001b[0m\n\u001b[1;32m    292\u001b[0m         \"\"\"\n\u001b[0;32m--> 293\u001b[0;31m         \u001b[0mscores\u001b[0m \u001b[0;34m=\u001b[0m \u001b[0mself\u001b[0m\u001b[0;34m.\u001b[0m\u001b[0mdecision_function\u001b[0m\u001b[0;34m(\u001b[0m\u001b[0mX\u001b[0m\u001b[0;34m)\u001b[0m\u001b[0;34m\u001b[0m\u001b[0;34m\u001b[0m\u001b[0m\n\u001b[0m\u001b[1;32m    294\u001b[0m         \u001b[0;32mif\u001b[0m \u001b[0mlen\u001b[0m\u001b[0;34m(\u001b[0m\u001b[0mscores\u001b[0m\u001b[0;34m.\u001b[0m\u001b[0mshape\u001b[0m\u001b[0;34m)\u001b[0m \u001b[0;34m==\u001b[0m \u001b[0;36m1\u001b[0m\u001b[0;34m:\u001b[0m\u001b[0;34m\u001b[0m\u001b[0;34m\u001b[0m\u001b[0m\n\u001b[1;32m    295\u001b[0m             \u001b[0mindices\u001b[0m \u001b[0;34m=\u001b[0m \u001b[0;34m(\u001b[0m\u001b[0mscores\u001b[0m \u001b[0;34m>\u001b[0m \u001b[0;36m0\u001b[0m\u001b[0;34m)\u001b[0m\u001b[0;34m.\u001b[0m\u001b[0mastype\u001b[0m\u001b[0;34m(\u001b[0m\u001b[0mnp\u001b[0m\u001b[0;34m.\u001b[0m\u001b[0mint\u001b[0m\u001b[0;34m)\u001b[0m\u001b[0;34m\u001b[0m\u001b[0;34m\u001b[0m\u001b[0m\n",
            "\u001b[0;32m/usr/local/lib/python3.7/dist-packages/sklearn/linear_model/_base.py\u001b[0m in \u001b[0;36mdecision_function\u001b[0;34m(self, X)\u001b[0m\n\u001b[1;32m    271\u001b[0m         \u001b[0;32mif\u001b[0m \u001b[0mX\u001b[0m\u001b[0;34m.\u001b[0m\u001b[0mshape\u001b[0m\u001b[0;34m[\u001b[0m\u001b[0;36m1\u001b[0m\u001b[0;34m]\u001b[0m \u001b[0;34m!=\u001b[0m \u001b[0mn_features\u001b[0m\u001b[0;34m:\u001b[0m\u001b[0;34m\u001b[0m\u001b[0;34m\u001b[0m\u001b[0m\n\u001b[1;32m    272\u001b[0m             raise ValueError(\"X has %d features per sample; expecting %d\"\n\u001b[0;32m--> 273\u001b[0;31m                              % (X.shape[1], n_features))\n\u001b[0m\u001b[1;32m    274\u001b[0m \u001b[0;34m\u001b[0m\u001b[0m\n\u001b[1;32m    275\u001b[0m         scores = safe_sparse_dot(X, self.coef_.T,\n",
            "\u001b[0;31mValueError\u001b[0m: X has 22 features per sample; expecting 119"
          ]
        }
      ]
    }
  ]
}